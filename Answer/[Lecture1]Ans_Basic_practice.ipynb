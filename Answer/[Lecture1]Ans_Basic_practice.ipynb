{
  "cells": [
    {
      "cell_type": "markdown",
      "metadata": {
        "id": "LhwmyRRmIbGX"
      },
      "source": [
        "# Review"
      ]
    },
    {
      "cell_type": "markdown",
      "metadata": {
        "id": "-XFBYMTCI8pP"
      },
      "source": [
        "### Problem 1. Get average\n",
        "\n",
        "- Kate received scores in five subjects as the list given.\n",
        "\n",
        "- Write code to calculate the average of the scores Kate received."
      ]
    },
    {
      "cell_type": "code",
      "execution_count": 1,
      "metadata": {
        "id": "Jrwe21_4I6JJ"
      },
      "outputs": [],
      "source": [
        "# Each score is between 0 and 100 points.\n",
        "grades = [65, 70, 100, 43, 50]"
      ]
    },
    {
      "cell_type": "code",
      "execution_count": 2,
      "metadata": {
        "id": "b8R9ef8Uqos-"
      },
      "outputs": [
        {
          "data": {
            "text/plain": [
              "65.6"
            ]
          },
          "execution_count": 2,
          "metadata": {},
          "output_type": "execute_result"
        }
      ],
      "source": [
        "sum(grades) / len(grades)"
      ]
    },
    {
      "cell_type": "markdown",
      "metadata": {
        "id": "B_ghQKvBJFnu"
      },
      "source": [
        "### Problem 2. What is a 'list'?\n",
        "* Here is information about the heights of five children in a class.\n",
        "* Make a list of them and put them in a variable called <em>heights</em>.\n",
        "*  175.3, 146, 184, 160, 167\n",
        "> Just type the number (except 'cm')"
      ]
    },
    {
      "cell_type": "code",
      "execution_count": 3,
      "metadata": {
        "id": "bBDIu-etqp6x"
      },
      "outputs": [
        {
          "data": {
            "text/plain": [
              "175.3"
            ]
          },
          "execution_count": 3,
          "metadata": {},
          "output_type": "execute_result"
        }
      ],
      "source": [
        "heights = [175.3, 146, 184, 160, 167]\n",
        "heights[0]"
      ]
    },
    {
      "cell_type": "markdown",
      "metadata": {
        "id": "a2PaNyWVJqc3"
      },
      "source": [
        "### Problem 3. Let's check a data type for a list.\n",
        " - Let's check the data type of the list we created in problem 2 above.\n",
        "> HINT : Use 'type( )'"
      ]
    },
    {
      "cell_type": "code",
      "execution_count": 4,
      "metadata": {
        "id": "htKVJzfZivIG"
      },
      "outputs": [
        {
          "data": {
            "text/plain": [
              "list"
            ]
          },
          "execution_count": 4,
          "metadata": {},
          "output_type": "execute_result"
        }
      ],
      "source": [
        "type(heights)"
      ]
    },
    {
      "cell_type": "markdown",
      "metadata": {
        "id": "bNEwV8mEJxzv"
      },
      "source": [
        "### Problem 4. Here's a new friend, 'Mike'\n",
        "* His height is 207cm\n",
        "* Add his height to the list <em>heights</em>, created from Problem 2 above\n",
        "* do not include 'cm' in the list.\n",
        "* Get the length of <em>heights</em>\n",
        "> HINT : append(), len()"
      ]
    },
    {
      "cell_type": "code",
      "execution_count": 5,
      "metadata": {
        "id": "KEOj46ifiv2T"
      },
      "outputs": [
        {
          "data": {
            "text/plain": [
              "6"
            ]
          },
          "execution_count": 5,
          "metadata": {},
          "output_type": "execute_result"
        }
      ],
      "source": [
        "heights.append(207)\n",
        "len(heights)"
      ]
    },
    {
      "cell_type": "markdown",
      "metadata": {
        "id": "BQ4uciKlKC1t"
      },
      "source": [
        "### Problem 5. Link heights with their name respectively!\n",
        "- We have the heights of five children, but we didn't know whose heights they were, but now we do.\n",
        "  - Charles: 146(cm),  Henry: 160(cm),  Sue: 167(cm),  Kate: 175.3(cm),  Son: 207cm\n",
        "  - do not show 'cm'\n",
        "- As a dictionary type, we want to give it a name (name - key) and a height (height - value) as shown above\n",
        "\n",
        "- Write it down in code and put it in a variable called <em>class_A'</em>."
      ]
    },
    {
      "cell_type": "code",
      "execution_count": 8,
      "metadata": {
        "id": "INVJ-7UH1T6R"
      },
      "outputs": [
        {
          "data": {
            "text/plain": [
              "{'Charles': 146, 'Henry': 160, 'Sue': 167, 'Kate': 175.3, 'Son': 207}"
            ]
          },
          "execution_count": 8,
          "metadata": {},
          "output_type": "execute_result"
        }
      ],
      "source": [
        "## create a variable 'class_A'\n",
        "class_A = {\"Charles\": 146, \"Henry\": 160, \"Sue\": 167, \"Kate\": 175.3, \"Son\": 207}\n",
        "class_A"
      ]
    },
    {
      "cell_type": "code",
      "execution_count": 9,
      "metadata": {
        "id": "WJ9zOGRQKt3I"
      },
      "outputs": [
        {
          "data": {
            "text/plain": [
              "207"
            ]
          },
          "execution_count": 9,
          "metadata": {},
          "output_type": "execute_result"
        }
      ],
      "source": [
        "## what is the height of Son?\n",
        "class_A[\"Son\"]"
      ]
    },
    {
      "cell_type": "markdown",
      "metadata": {
        "id": "6jR8wnbHKuMl"
      },
      "source": [
        "### Problem 6. Search for children in the class by height.\n",
        " - For example, \"Who was the friend who was 175.3cm?\"\n",
        " - Let's run this in code, and find a friend who is 175.3 cm tall.\n",
        " > HINT :  <em>for</em> loop"
      ]
    },
    {
      "cell_type": "code",
      "execution_count": 10,
      "metadata": {
        "id": "j27ZmT5CjDno"
      },
      "outputs": [
        {
          "name": "stdout",
          "output_type": "stream",
          "text": [
            "Kate\n"
          ]
        }
      ],
      "source": [
        "for name, height in class_A.items():\n",
        "    if height == 175.3:\n",
        "        print(name)"
      ]
    },
    {
      "cell_type": "markdown",
      "metadata": {
        "id": "DLUP70DTLu-D"
      },
      "source": [
        "### Problem 7. Let's create a simple calculator function.\n",
        " - Code a simple function for the addition function.\n",
        " - Code a function <em>plus() </em> that takes in the parameters number_01, number_02, and adds them together.\n",
        "    - parameter : When you declare a function, this is the variable that receives the data sent by the calling part.\n",
        " - After building the function, let's run it by putting the numbers 100 and 23 into the function.\n",
        "\n",
        "> HINT: def function_name(a, b)"
      ]
    },
    {
      "cell_type": "code",
      "execution_count": 11,
      "metadata": {
        "id": "P7ibFrDvjE7M"
      },
      "outputs": [],
      "source": [
        "def plus(number_01, number_02):\n",
        "    print(number_01 + number_02)"
      ]
    },
    {
      "cell_type": "code",
      "execution_count": 14,
      "metadata": {},
      "outputs": [
        {
          "name": "stdout",
          "output_type": "stream",
          "text": [
            "123\n"
          ]
        }
      ],
      "source": [
        "plus(100,23)"
      ]
    },
    {
      "cell_type": "markdown",
      "metadata": {
        "id": "8RXzzfp4QZRB"
      },
      "source": [
        "### Problem 8. Let's run a simple <em>if</em> function\n",
        "\n",
        " - For people who are over 180cm tall, display the message \"You're really tall\", otherwise display the message \"You'll be tall\"\n",
        "\n",
        " - run each code, \"height_high(181)\", \"height_high(178)\""
      ]
    },
    {
      "cell_type": "code",
      "execution_count": 12,
      "metadata": {
        "id": "iOxwxictjIdP"
      },
      "outputs": [],
      "source": [
        "def height_high(height):\n",
        "    \n",
        "    return \"You're really tall\" if height >= 180 else \"You'll be tall\"\n"
      ]
    },
    {
      "cell_type": "code",
      "execution_count": 15,
      "metadata": {
        "id": "pEw-AOf5Qf4f"
      },
      "outputs": [
        {
          "data": {
            "text/plain": [
              "\"You're really tall\""
            ]
          },
          "execution_count": 15,
          "metadata": {},
          "output_type": "execute_result"
        }
      ],
      "source": [
        "# run \"height_high(181)\"\n",
        "height_high(181)"
      ]
    },
    {
      "cell_type": "code",
      "execution_count": 16,
      "metadata": {
        "id": "sgXdoLJXQnsK"
      },
      "outputs": [
        {
          "data": {
            "text/plain": [
              "\"You'll always be tall\""
            ]
          },
          "execution_count": 16,
          "metadata": {},
          "output_type": "execute_result"
        }
      ],
      "source": [
        "# run \"height_high(178)\"\n",
        "height_high(178)"
      ]
    },
    {
      "cell_type": "code",
      "execution_count": null,
      "metadata": {},
      "outputs": [],
      "source": []
    }
  ],
  "metadata": {
    "colab": {
      "provenance": []
    },
    "kernelspec": {
      "display_name": "Python 3.10.7 64-bit",
      "language": "python",
      "name": "python3"
    },
    "language_info": {
      "codemirror_mode": {
        "name": "ipython",
        "version": 3
      },
      "file_extension": ".py",
      "mimetype": "text/x-python",
      "name": "python",
      "nbconvert_exporter": "python",
      "pygments_lexer": "ipython3",
      "version": "3.10.7"
    },
    "vscode": {
      "interpreter": {
        "hash": "aee8b7b246df8f9039afb4144a1f6fd8d2ca17a180786b69acc140d282b71a49"
      }
    }
  },
  "nbformat": 4,
  "nbformat_minor": 0
}
