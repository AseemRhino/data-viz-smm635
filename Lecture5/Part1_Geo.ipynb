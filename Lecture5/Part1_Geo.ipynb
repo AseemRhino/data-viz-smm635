{
 "cells": [
  {
   "cell_type": "markdown",
   "metadata": {},
   "source": [
    "# How do I locate myself?\n",
    "\n",
    "- https://www.maps.ie/coordinates.html\n",
    "- Let's check in Google Map"
   ]
  },
  {
   "cell_type": "code",
   "execution_count": null,
   "metadata": {},
   "outputs": [],
   "source": [
    "# Let's save your current address (Bayes Finsbury) \n",
    "lat, long = \n"
   ]
  },
  {
   "cell_type": "code",
   "execution_count": null,
   "metadata": {},
   "outputs": [],
   "source": [
    "# Find your place in the map\n",
    "import folium\n",
    "map = folium.Map(location=[lat,long], tiles=\"OpenStreetMap\", zoom_start=17)\n",
    "map"
   ]
  },
  {
   "cell_type": "code",
   "execution_count": null,
   "metadata": {},
   "outputs": [],
   "source": [
    "# Try different Tiles\n",
    "# https://leaflet-extras.github.io/leaflet-providers/preview/\n",
    "\n",
    "map2 = folium.Map(location=[lat,long], tiles=\"       \", zoom_start=17)\n",
    "map2"
   ]
  },
  {
   "cell_type": "code",
   "execution_count": null,
   "metadata": {},
   "outputs": [],
   "source": [
    "# Mark your location in our map\n",
    "\n",
    "m = folium.Map([lat, long], zoom_start=12)\n",
    "\n",
    "folium.Marker(\n",
    "    location=[lat, long],\n",
    "    tooltip=\"Click me!\",\n",
    "    popup=\"your school\",\n",
    "    icon=folium.Icon(),\n",
    ").add_to(m)\n",
    "m "
   ]
  },
  {
   "cell_type": "markdown",
   "metadata": {},
   "source": [
    "### Mark your home in our map and add an icon shape"
   ]
  },
  {
   "cell_type": "code",
   "execution_count": null,
   "metadata": {},
   "outputs": [],
   "source": [
    "# Icon reference : https://python-visualization.github.io/folium/latest/reference.html\n",
    "\n",
    "lat2, long2 = \n",
    "m2 = folium.Map([lat2, long2], zoom_start=12)\n",
    "\n",
    "folium.Marker(\n",
    "    location=[lat2, long2],\n",
    "    tooltip=\"Click me!\",\n",
    "    popup=\"my hometown\",\n",
    "    icon=folium.Icon(icon='home'),\n",
    ").add_to(m2)\n",
    "\n",
    "m2"
   ]
  },
  {
   "cell_type": "markdown",
   "metadata": {},
   "source": [
    "# Wait! Earth is the three dimension, right?"
   ]
  },
  {
   "cell_type": "code",
   "execution_count": null,
   "metadata": {},
   "outputs": [],
   "source": [
    "import geopandas as gpd\n",
    "import matplotlib.pyplot as plt\n",
    "\n",
    "gdf = gpd.read_file(gpd.datasets.get_path('naturalearth_lowres'))\n",
    "\n",
    "gdf.plot()\n",
    "plt.show()"
   ]
  },
  {
   "cell_type": "code",
   "execution_count": null,
   "metadata": {},
   "outputs": [],
   "source": [
    "# read first 5 rows\n",
    "gdf.head()"
   ]
  },
  {
   "cell_type": "code",
   "execution_count": null,
   "metadata": {},
   "outputs": [],
   "source": [
    "# How Polygon works\n",
    "from shapely.geometry import Polygon\n",
    "\n",
    "Polygon([(1, 1), (2, 3), (1, 0)])"
   ]
  },
  {
   "cell_type": "code",
   "execution_count": null,
   "metadata": {},
   "outputs": [],
   "source": [
    "# Same Application to gdf geodataframe\n",
    "gdf.geometry[1] \n",
    "#gdf['geometry'][1]"
   ]
  },
  {
   "cell_type": "markdown",
   "metadata": {},
   "source": [
    "# Projection"
   ]
  },
  {
   "cell_type": "markdown",
   "metadata": {},
   "source": [
    "- Why all world maps are wrong :  https://www.youtube.com/watch?v=kIID5FDi2JQ\n",
    "- www.thetruesize.com\n",
    "- CRS (Coordinate Reference System) : https://epsg.io/\n",
    "- We are currently using WGS(World Geodetic System) 84, EPSG: 4326"
   ]
  },
  {
   "cell_type": "markdown",
   "metadata": {},
   "source": [
    "-  Mercator projection : The Mercator projection is often used for maritime navigation since it preserves angles, making it useful for charting a course with a constant compass bearing. However, it significantly distorts the size of objects as the latitude increases from the Equator to the poles.\n",
    "\n",
    "- Lambert Cylindrical projection:  an equal-area map projection, which means it preserves area across the map. However, shapes are distorted, especially as you move away from the Equator.\n",
    "\n",
    "it is important when choosing a projection for a specific cartographic purpose or analysis."
   ]
  },
  {
   "cell_type": "code",
   "execution_count": null,
   "metadata": {},
   "outputs": [],
   "source": [
    "import matplotlib.ticker as mticker\n",
    "import cartopy.crs as ccrs\n",
    "\n",
    "from cartopy.mpl.gridliner import LONGITUDE_FORMATTER, LATITUDE_FORMATTER\n",
    "\n",
    "plt.figure(figsize=(10, 5))\n",
    "ax = plt.axes(projection=ccrs.Mercator())\n",
    "gdf.plot(ax=ax, transform=ccrs.PlateCarree())\n",
    "gl = ax.gridlines(crs=ccrs.PlateCarree(), draw_labels=True,\n",
    "                  linewidth=2, color='black', alpha=0.5, linestyle='--')\n",
    "plt.show()"
   ]
  },
  {
   "cell_type": "code",
   "execution_count": null,
   "metadata": {},
   "outputs": [],
   "source": [
    "plt.figure(figsize=(10, 5))\n",
    "\n",
    "ax = plt.axes(projection=ccrs.LambertCylindrical())\n",
    "gdf.plot(ax=ax, transform=ccrs.PlateCarree())\n",
    "gl = ax.gridlines(crs=ccrs.PlateCarree(), draw_labels=True,\n",
    "                  linewidth=2, color='black', alpha=0.5, linestyle='--')\n",
    "plt.show()"
   ]
  },
  {
   "cell_type": "markdown",
   "metadata": {},
   "source": [
    "# Let's be John Snow"
   ]
  },
  {
   "cell_type": "code",
   "execution_count": null,
   "metadata": {},
   "outputs": [],
   "source": [
    "# read 'deaths.csv' data\n",
    "import pandas as pd\n",
    "deaths = "
   ]
  },
  {
   "cell_type": "code",
   "execution_count": null,
   "metadata": {},
   "outputs": [],
   "source": [
    "# Change column names\n",
    "\n",
    "newcols = {\n",
    "    'Death': 'death_count',\n",
    "    'X coordinate': 'x_latitude', \n",
    "    'Y coordinate': 'y_longitude' \n",
    "    }\n",
    "    \n",
    "deaths.rename(newcols, inplace = True, axis='columns')\n",
    "print(deaths.shape)"
   ]
  },
  {
   "cell_type": "code",
   "execution_count": null,
   "metadata": {},
   "outputs": [],
   "source": [
    "deaths"
   ]
  },
  {
   "cell_type": "markdown",
   "metadata": {},
   "source": [
    "Originally he formulated and published his theory that cholera is spread by water or food in an essay, which received negative reviews, but we know he was right.\n",
    "  "
   ]
  },
  {
   "cell_type": "code",
   "execution_count": null,
   "metadata": {},
   "outputs": [],
   "source": [
    "print(deaths.describe())\n"
   ]
  },
  {
   "cell_type": "markdown",
   "metadata": {},
   "source": [
    "- Broad Street Pump location: [51.5132119,-0.13666]\n",
    "- Find out where it is located now in Google Map, and You will see his name around the location"
   ]
  },
  {
   "cell_type": "code",
   "execution_count": null,
   "metadata": {},
   "outputs": [],
   "source": [
    "import folium\n",
    "\n",
    "locations = deaths[['x_latitude', 'y_longitude']]\n",
    "deaths_list = locations.values.tolist()\n",
    "\n",
    "map = folium.Map(location=[    ,    ], tiles=\"OpenTopoMap\", zoom_start=17)\n",
    "# https://leaflet-extras.github.io/leaflet-providers/preview/\n",
    "\n",
    "map"
   ]
  },
  {
   "cell_type": "code",
   "execution_count": null,
   "metadata": {},
   "outputs": [],
   "source": [
    "# mark the pump location on the map\n",
    "map2 = map\n",
    "folium.Marker(location=[51.5132119,-0.13666]).add_to(map2)\n",
    "map2"
   ]
  },
  {
   "cell_type": "code",
   "execution_count": null,
   "metadata": {},
   "outputs": [],
   "source": [
    "# Use CircleMarker to show every death frequencies on the map\n",
    "for point in range(0, len(deaths_list)):\n",
    "    folium.CircleMarker(deaths_list[point], radius=8, color='red', fill=True, fill_color='red', opacity = 0.4).add_to(map)\n",
    "map"
   ]
  },
  {
   "cell_type": "code",
   "execution_count": null,
   "metadata": {},
   "outputs": [],
   "source": [
    "# Get all pump data\n",
    "pumps = pd.read_csv('./Data/pumps.csv')\n",
    "locations_pumps = pumps[['X coordinate', 'Y coordinate']]\n",
    "pumps_list = locations_pumps.values.tolist()\n",
    "\n",
    "map1 = map\n",
    "for point in range(0, len(pumps_list)):\n",
    "    folium.Marker(pumps_list[point], popup=pumps['Pump Name'][point]).add_to(map1)\n",
    "map1"
   ]
  },
  {
   "cell_type": "code",
   "execution_count": null,
   "metadata": {},
   "outputs": [],
   "source": [
    "# Cluster your location\n",
    "\n",
    "from folium import Marker\n",
    "from folium.plugins import MarkerCluster\n",
    "\n",
    "mc = MarkerCluster()\n",
    "for _, row in deaths.iterrows():\n",
    "    mc.add_child(    \n",
    "        Marker(location = [row['x_latitude'], row['y_longitude']],\n",
    "               popup=row['death_count']\n",
    "              )\n",
    "    )\n",
    "    \n",
    "map1.add_child(mc)"
   ]
  },
  {
   "cell_type": "markdown",
   "metadata": {},
   "source": [
    "After marking the deaths on the map, what John Snow saw was not a random pattern.The majority of the deaths were concentrated at the corner of Broad Street (now Broadwick Street) and Cambridge Street (now Lexington Street). A cluster of deaths around the junction of these streets was the epicenter of the outbreak, but what was there? Yes, a water pump."
   ]
  },
  {
   "cell_type": "markdown",
   "metadata": {},
   "source": [
    "Removing the handle from the pump prevented any more of the infected water from being collected. The spring below the pump was later found to have been contaminated with sewage. This act was later recognized as an early example of epidemiology, public health medicine and the application of science (the germ theory of disease) in a real-life crisis."
   ]
  },
  {
   "cell_type": "markdown",
   "metadata": {},
   "source": [
    "# Pre-post visualization"
   ]
  },
  {
   "cell_type": "code",
   "execution_count": null,
   "metadata": {},
   "outputs": [],
   "source": [
    "import matplotlib.pyplot as plt\n",
    "\n",
    "df = pd.read_csv('./Data/dates.csv')\n",
    "df.head()"
   ]
  },
  {
   "cell_type": "markdown",
   "metadata": {},
   "source": [
    "- Plot deaths and attacks trends with a line chart"
   ]
  },
  {
   "cell_type": "code",
   "execution_count": null,
   "metadata": {},
   "outputs": [],
   "source": [
    "\n",
    "# Plotting\n",
    "plt.figure(figsize=(15, 7))\n",
    "\n",
    "# Plot deaths\n",
    "\n",
    "# Plot attacks\n",
    "\n",
    "# Title and labels\n",
    "plt.title('Number of Cholera Deaths/Attacks before and after 8th of September 1854 (removing the pump handle)')\n",
    "plt.xlabel('Date')\n",
    "plt.ylabel('Number of Deaths/Attacks')\n",
    "\n",
    "# Legend\n",
    "plt.legend()\n",
    "\n",
    "# Show plot\n",
    "plt.show()"
   ]
  },
  {
   "cell_type": "markdown",
   "metadata": {},
   "source": [
    "- Henry Whitehead said, \"I must not omit to mention that if the removal of the pump-handle had nothing to do with checking the outbreak which had already run its course, it had probably everything to do with preventing a new outbreak, for the father of the infant, who slept in the same kitchen, was attacked with cholera on the very day (September 8th) on which the pump-handle was removed. There can be no doubt that his discharges found their way into the cesspool and thence to the well. But, thanks to Dr. Snow, the handle was then gone.\""
   ]
  },
  {
   "cell_type": "markdown",
   "metadata": {},
   "source": [
    "# What if I have PostCode, instead of GPS ? \n",
    "\n"
   ]
  },
  {
   "cell_type": "code",
   "execution_count": null,
   "metadata": {},
   "outputs": [],
   "source": [
    "# import ssl\n",
    "# ssl._create_default_https_context = ssl._create_unverified_context"
   ]
  },
  {
   "cell_type": "code",
   "execution_count": null,
   "metadata": {},
   "outputs": [],
   "source": [
    "import pgeocode\n",
    "\n",
    "nomi = pgeocode.Nominatim('gb')  # 'gb' is the country code for the United Kingdom\n",
    "location = nomi.query_postal_code('KT5 9NP')\n",
    "# https://stackoverflow.com/questions/50236117/scraping-ssl-certificate-verify-failed-error-for-http-en-wikipedia-org\n",
    "\n",
    "print(location.latitude, location.longitude)"
   ]
  },
  {
   "cell_type": "code",
   "execution_count": null,
   "metadata": {},
   "outputs": [],
   "source": []
  }
 ],
 "metadata": {
  "kernelspec": {
   "display_name": "Python 3.10.7 64-bit",
   "language": "python",
   "name": "python3"
  },
  "language_info": {
   "codemirror_mode": {
    "name": "ipython",
    "version": 3
   },
   "file_extension": ".py",
   "mimetype": "text/x-python",
   "name": "python",
   "nbconvert_exporter": "python",
   "pygments_lexer": "ipython3",
   "version": "3.10.7"
  },
  "orig_nbformat": 4,
  "vscode": {
   "interpreter": {
    "hash": "aee8b7b246df8f9039afb4144a1f6fd8d2ca17a180786b69acc140d282b71a49"
   }
  }
 },
 "nbformat": 4,
 "nbformat_minor": 2
}
