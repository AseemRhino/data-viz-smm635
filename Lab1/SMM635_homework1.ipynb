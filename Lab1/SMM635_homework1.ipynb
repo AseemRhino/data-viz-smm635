{
 "cells": [
  {
   "cell_type": "markdown",
   "metadata": {},
   "source": [
    "### Read the data"
   ]
  },
  {
   "cell_type": "code",
   "execution_count": null,
   "metadata": {},
   "outputs": [],
   "source": [
    "# import libraries you want to use  "
   ]
  },
  {
   "cell_type": "code",
   "execution_count": 1,
   "metadata": {},
   "outputs": [],
   "source": [
    "# Read 'worldbank.csv'\n"
   ]
  },
  {
   "cell_type": "markdown",
   "metadata": {},
   "source": [
    "### Question 1: What are the top 5 countries with the highest \"Adolescent fertility rate (births per 1,000 women ages 15-19)\"?"
   ]
  },
  {
   "cell_type": "code",
   "execution_count": null,
   "metadata": {},
   "outputs": [],
   "source": []
  },
  {
   "cell_type": "markdown",
   "metadata": {},
   "source": [
    "#### Question 2: Generate a bar chart to visualize the \"Battle-related deaths (number of people)\" for the top 5 countries."
   ]
  },
  {
   "cell_type": "code",
   "execution_count": null,
   "metadata": {},
   "outputs": [],
   "source": []
  },
  {
   "cell_type": "markdown",
   "metadata": {},
   "source": [
    "#### Question 3: What is the average \"CPIA building human resources rating (1=low to 6=high)\" across all countries in the dataset?"
   ]
  },
  {
   "cell_type": "code",
   "execution_count": null,
   "metadata": {},
   "outputs": [],
   "source": []
  },
  {
   "cell_type": "markdown",
   "metadata": {},
   "source": [
    "#### Question 4: Generate a histogram to visualize the distribution of \"Women who were first married by age 18 (% of women ages 20-24)\" across all countries."
   ]
  },
  {
   "cell_type": "code",
   "execution_count": null,
   "metadata": {},
   "outputs": [],
   "source": []
  },
  {
   "cell_type": "markdown",
   "metadata": {},
   "source": [
    "#### Question 5: How many countries have data regarding \"Antiretroviral therapy coverage for PMTCT (% of pregnant women living with HIV)\"?"
   ]
  },
  {
   "cell_type": "code",
   "execution_count": null,
   "metadata": {},
   "outputs": [],
   "source": []
  },
  {
   "cell_type": "markdown",
   "metadata": {},
   "source": [
    "## Tell Me Something Cool You've Learned\n",
    "\n",
    "Write me a little markdown cell (with some fun formatting!) telling me something you saw in the plot you didn't expect."
   ]
  },
  {
   "cell_type": "markdown",
   "metadata": {},
   "source": [
    "## Export and Send Your Notebook to Me!\n",
    "\n",
    "When you are finished, the next step is to export this notebook. \n",
    "\n",
    "In my experience, the best way to do this is as follows: \n",
    "\n",
    "1. Along the top of your notebook, select \"Export\" (it might be in the three-dot menu at the top of the notebook in the same bar as the `+ Code` button and the `+ Markdown` button).\n",
    "2. Choose \"HTML\" and **save it next to this notebook file**. This is important because any images in the HTML have relative file paths that are set up to be in reference to the location of your notebook, so if you save it somewhere else, when you open it you may lose all your images. \n",
    "3. Open that HTML in your normal web browser (Chrome, Firefox, etc), **not** in VS Code.\n",
    "4. Print the page to PDF.\n",
    "\n",
    "Why do this instead of choosing the PDF option when exporting? If you try and export a notebook directly to PDF, VS Code will actually try and use a tool to convert it to a LaTeX document, compile that latex document, then print, and getting this setup right can be a pain, and the LaTeX conversion often causes problems. So while a little convoluted, that's my recommendation. "
   ]
  }
 ],
 "metadata": {
  "kernelspec": {
   "display_name": "Python 3.10.7 64-bit",
   "language": "python",
   "name": "python3"
  },
  "language_info": {
   "codemirror_mode": {
    "name": "ipython",
    "version": 3
   },
   "file_extension": ".py",
   "mimetype": "text/x-python",
   "name": "python",
   "nbconvert_exporter": "python",
   "pygments_lexer": "ipython3",
   "version": "3.10.7"
  },
  "orig_nbformat": 4,
  "vscode": {
   "interpreter": {
    "hash": "aee8b7b246df8f9039afb4144a1f6fd8d2ca17a180786b69acc140d282b71a49"
   }
  }
 },
 "nbformat": 4,
 "nbformat_minor": 2
}
