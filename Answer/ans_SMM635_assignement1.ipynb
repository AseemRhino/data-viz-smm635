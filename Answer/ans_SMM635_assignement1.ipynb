{
 "cells": [
  {
   "cell_type": "markdown",
   "metadata": {},
   "source": [
    "# read the data"
   ]
  },
  {
   "cell_type": "code",
   "execution_count": 1,
   "metadata": {},
   "outputs": [
    {
     "data": {
      "text/html": [
       "<div>\n",
       "<style scoped>\n",
       "    .dataframe tbody tr th:only-of-type {\n",
       "        vertical-align: middle;\n",
       "    }\n",
       "\n",
       "    .dataframe tbody tr th {\n",
       "        vertical-align: top;\n",
       "    }\n",
       "\n",
       "    .dataframe thead th {\n",
       "        text-align: right;\n",
       "    }\n",
       "</style>\n",
       "<table border=\"1\" class=\"dataframe\">\n",
       "  <thead>\n",
       "    <tr style=\"text-align: right;\">\n",
       "      <th></th>\n",
       "      <th>Country Name</th>\n",
       "      <th>Adolescent fertility rate (births per 1,000 women ages 15-19)</th>\n",
       "      <th>Antiretroviral therapy coverage for PMTCT (% of pregnant women living with HIV)</th>\n",
       "      <th>Battle-related deaths (number of people)</th>\n",
       "      <th>CPIA building human resources rating (1=low to 6=high)</th>\n",
       "      <th>CPIA business regulatory environment rating (1=low to 6=high)</th>\n",
       "      <th>CPIA debt policy rating (1=low to 6=high)</th>\n",
       "      <th>CPIA economic management cluster average (1=low to 6=high)</th>\n",
       "      <th>CPIA efficiency of revenue mobilization rating (1=low to 6=high)</th>\n",
       "      <th>CPIA equity of public resource use rating (1=low to 6=high)</th>\n",
       "      <th>...</th>\n",
       "      <th>Women participating in the three decisions (own health care, major household purchases, and visiting family) (% of women age 15-49)</th>\n",
       "      <th>Women who believe a husband is justified in beating his wife (any of five reasons) (%)</th>\n",
       "      <th>Women who believe a husband is justified in beating his wife when she argues with him (%)</th>\n",
       "      <th>Women who believe a husband is justified in beating his wife when she burns the food (%)</th>\n",
       "      <th>Women who believe a husband is justified in beating his wife when she goes out without telling him (%)</th>\n",
       "      <th>Women who believe a husband is justified in beating his wife when she neglects the children (%)</th>\n",
       "      <th>Women who believe a husband is justified in beating his wife when she refuses sex with him (%)</th>\n",
       "      <th>Women who were first married by age 15 (% of women ages 20-24)</th>\n",
       "      <th>Women who were first married by age 18 (% of women ages 20-24)</th>\n",
       "      <th>Women's share of population ages 15+ living with HIV (%)</th>\n",
       "    </tr>\n",
       "  </thead>\n",
       "  <tbody>\n",
       "    <tr>\n",
       "      <th>0</th>\n",
       "      <td>Afghanistan</td>\n",
       "      <td>73.1264</td>\n",
       "      <td>NaN</td>\n",
       "      <td>17273.0</td>\n",
       "      <td>3.5</td>\n",
       "      <td>2.5</td>\n",
       "      <td>3.0</td>\n",
       "      <td>3.0</td>\n",
       "      <td>3.0</td>\n",
       "      <td>3.0</td>\n",
       "      <td>...</td>\n",
       "      <td>32.6</td>\n",
       "      <td>80.2</td>\n",
       "      <td>59.2</td>\n",
       "      <td>18.2</td>\n",
       "      <td>66.9</td>\n",
       "      <td>48.4</td>\n",
       "      <td>33.4</td>\n",
       "      <td>8.8</td>\n",
       "      <td>34.8</td>\n",
       "      <td>NaN</td>\n",
       "    </tr>\n",
       "    <tr>\n",
       "      <th>1</th>\n",
       "      <td>Albania</td>\n",
       "      <td>20.6922</td>\n",
       "      <td>NaN</td>\n",
       "      <td>NaN</td>\n",
       "      <td>NaN</td>\n",
       "      <td>NaN</td>\n",
       "      <td>NaN</td>\n",
       "      <td>NaN</td>\n",
       "      <td>NaN</td>\n",
       "      <td>NaN</td>\n",
       "      <td>...</td>\n",
       "      <td>NaN</td>\n",
       "      <td>NaN</td>\n",
       "      <td>NaN</td>\n",
       "      <td>NaN</td>\n",
       "      <td>NaN</td>\n",
       "      <td>NaN</td>\n",
       "      <td>NaN</td>\n",
       "      <td>NaN</td>\n",
       "      <td>NaN</td>\n",
       "      <td>30.3</td>\n",
       "    </tr>\n",
       "    <tr>\n",
       "      <th>2</th>\n",
       "      <td>Algeria</td>\n",
       "      <td>10.7052</td>\n",
       "      <td>28.0</td>\n",
       "      <td>110.0</td>\n",
       "      <td>NaN</td>\n",
       "      <td>NaN</td>\n",
       "      <td>NaN</td>\n",
       "      <td>NaN</td>\n",
       "      <td>NaN</td>\n",
       "      <td>NaN</td>\n",
       "      <td>...</td>\n",
       "      <td>NaN</td>\n",
       "      <td>NaN</td>\n",
       "      <td>NaN</td>\n",
       "      <td>NaN</td>\n",
       "      <td>NaN</td>\n",
       "      <td>NaN</td>\n",
       "      <td>NaN</td>\n",
       "      <td>NaN</td>\n",
       "      <td>NaN</td>\n",
       "      <td>44.8</td>\n",
       "    </tr>\n",
       "    <tr>\n",
       "      <th>3</th>\n",
       "      <td>American Samoa</td>\n",
       "      <td>NaN</td>\n",
       "      <td>NaN</td>\n",
       "      <td>NaN</td>\n",
       "      <td>NaN</td>\n",
       "      <td>NaN</td>\n",
       "      <td>NaN</td>\n",
       "      <td>NaN</td>\n",
       "      <td>NaN</td>\n",
       "      <td>NaN</td>\n",
       "      <td>...</td>\n",
       "      <td>NaN</td>\n",
       "      <td>NaN</td>\n",
       "      <td>NaN</td>\n",
       "      <td>NaN</td>\n",
       "      <td>NaN</td>\n",
       "      <td>NaN</td>\n",
       "      <td>NaN</td>\n",
       "      <td>NaN</td>\n",
       "      <td>NaN</td>\n",
       "      <td>NaN</td>\n",
       "    </tr>\n",
       "    <tr>\n",
       "      <th>4</th>\n",
       "      <td>Andorra</td>\n",
       "      <td>NaN</td>\n",
       "      <td>NaN</td>\n",
       "      <td>NaN</td>\n",
       "      <td>NaN</td>\n",
       "      <td>NaN</td>\n",
       "      <td>NaN</td>\n",
       "      <td>NaN</td>\n",
       "      <td>NaN</td>\n",
       "      <td>NaN</td>\n",
       "      <td>...</td>\n",
       "      <td>NaN</td>\n",
       "      <td>NaN</td>\n",
       "      <td>NaN</td>\n",
       "      <td>NaN</td>\n",
       "      <td>NaN</td>\n",
       "      <td>NaN</td>\n",
       "      <td>NaN</td>\n",
       "      <td>NaN</td>\n",
       "      <td>NaN</td>\n",
       "      <td>NaN</td>\n",
       "    </tr>\n",
       "  </tbody>\n",
       "</table>\n",
       "<p>5 rows × 129 columns</p>\n",
       "</div>"
      ],
      "text/plain": [
       "     Country Name  \\\n",
       "0     Afghanistan   \n",
       "1         Albania   \n",
       "2         Algeria   \n",
       "3  American Samoa   \n",
       "4         Andorra   \n",
       "\n",
       "   Adolescent fertility rate (births per 1,000 women ages 15-19)  \\\n",
       "0                                            73.1264               \n",
       "1                                            20.6922               \n",
       "2                                            10.7052               \n",
       "3                                                NaN               \n",
       "4                                                NaN               \n",
       "\n",
       "   Antiretroviral therapy coverage for PMTCT (% of pregnant women living with HIV)  \\\n",
       "0                                                NaN                                 \n",
       "1                                                NaN                                 \n",
       "2                                               28.0                                 \n",
       "3                                                NaN                                 \n",
       "4                                                NaN                                 \n",
       "\n",
       "   Battle-related deaths (number of people)  \\\n",
       "0                                   17273.0   \n",
       "1                                       NaN   \n",
       "2                                     110.0   \n",
       "3                                       NaN   \n",
       "4                                       NaN   \n",
       "\n",
       "   CPIA building human resources rating (1=low to 6=high)  \\\n",
       "0                                                3.5        \n",
       "1                                                NaN        \n",
       "2                                                NaN        \n",
       "3                                                NaN        \n",
       "4                                                NaN        \n",
       "\n",
       "   CPIA business regulatory environment rating (1=low to 6=high)  \\\n",
       "0                                                2.5               \n",
       "1                                                NaN               \n",
       "2                                                NaN               \n",
       "3                                                NaN               \n",
       "4                                                NaN               \n",
       "\n",
       "   CPIA debt policy rating (1=low to 6=high)  \\\n",
       "0                                        3.0   \n",
       "1                                        NaN   \n",
       "2                                        NaN   \n",
       "3                                        NaN   \n",
       "4                                        NaN   \n",
       "\n",
       "   CPIA economic management cluster average (1=low to 6=high)  \\\n",
       "0                                                3.0            \n",
       "1                                                NaN            \n",
       "2                                                NaN            \n",
       "3                                                NaN            \n",
       "4                                                NaN            \n",
       "\n",
       "   CPIA efficiency of revenue mobilization rating (1=low to 6=high)  \\\n",
       "0                                                3.0                  \n",
       "1                                                NaN                  \n",
       "2                                                NaN                  \n",
       "3                                                NaN                  \n",
       "4                                                NaN                  \n",
       "\n",
       "   CPIA equity of public resource use rating (1=low to 6=high)  ...  \\\n",
       "0                                                3.0            ...   \n",
       "1                                                NaN            ...   \n",
       "2                                                NaN            ...   \n",
       "3                                                NaN            ...   \n",
       "4                                                NaN            ...   \n",
       "\n",
       "   Women participating in the three decisions (own health care, major household purchases, and visiting family) (% of women age 15-49)  \\\n",
       "0                                               32.6                                                                                     \n",
       "1                                                NaN                                                                                     \n",
       "2                                                NaN                                                                                     \n",
       "3                                                NaN                                                                                     \n",
       "4                                                NaN                                                                                     \n",
       "\n",
       "   Women who believe a husband is justified in beating his wife (any of five reasons) (%)  \\\n",
       "0                                               80.2                                        \n",
       "1                                                NaN                                        \n",
       "2                                                NaN                                        \n",
       "3                                                NaN                                        \n",
       "4                                                NaN                                        \n",
       "\n",
       "   Women who believe a husband is justified in beating his wife when she argues with him (%)  \\\n",
       "0                                               59.2                                           \n",
       "1                                                NaN                                           \n",
       "2                                                NaN                                           \n",
       "3                                                NaN                                           \n",
       "4                                                NaN                                           \n",
       "\n",
       "   Women who believe a husband is justified in beating his wife when she burns the food (%)  \\\n",
       "0                                               18.2                                          \n",
       "1                                                NaN                                          \n",
       "2                                                NaN                                          \n",
       "3                                                NaN                                          \n",
       "4                                                NaN                                          \n",
       "\n",
       "   Women who believe a husband is justified in beating his wife when she goes out without telling him (%)  \\\n",
       "0                                               66.9                                                        \n",
       "1                                                NaN                                                        \n",
       "2                                                NaN                                                        \n",
       "3                                                NaN                                                        \n",
       "4                                                NaN                                                        \n",
       "\n",
       "   Women who believe a husband is justified in beating his wife when she neglects the children (%)  \\\n",
       "0                                               48.4                                                 \n",
       "1                                                NaN                                                 \n",
       "2                                                NaN                                                 \n",
       "3                                                NaN                                                 \n",
       "4                                                NaN                                                 \n",
       "\n",
       "   Women who believe a husband is justified in beating his wife when she refuses sex with him (%)  \\\n",
       "0                                               33.4                                                \n",
       "1                                                NaN                                                \n",
       "2                                                NaN                                                \n",
       "3                                                NaN                                                \n",
       "4                                                NaN                                                \n",
       "\n",
       "   Women who were first married by age 15 (% of women ages 20-24)  \\\n",
       "0                                                8.8                \n",
       "1                                                NaN                \n",
       "2                                                NaN                \n",
       "3                                                NaN                \n",
       "4                                                NaN                \n",
       "\n",
       "   Women who were first married by age 18 (% of women ages 20-24)  \\\n",
       "0                                               34.8                \n",
       "1                                                NaN                \n",
       "2                                                NaN                \n",
       "3                                                NaN                \n",
       "4                                                NaN                \n",
       "\n",
       "   Women's share of population ages 15+ living with HIV (%)  \n",
       "0                                                NaN         \n",
       "1                                               30.3         \n",
       "2                                               44.8         \n",
       "3                                                NaN         \n",
       "4                                                NaN         \n",
       "\n",
       "[5 rows x 129 columns]"
      ]
     },
     "execution_count": 1,
     "metadata": {},
     "output_type": "execute_result"
    }
   ],
   "source": [
    "import pandas as pd\n",
    "import matplotlib.pyplot as plt\n",
    "\n",
    "\n",
    "wdi = pd.read_csv('./worldbank.csv')\n",
    "wdi.head()"
   ]
  },
  {
   "cell_type": "markdown",
   "metadata": {},
   "source": [
    "### Question 1: What are the top 5 countries with the highest \"Adolescent fertility rate (births per 1,000 women ages 15-19)\"?\n"
   ]
  },
  {
   "cell_type": "code",
   "execution_count": 3,
   "metadata": {},
   "outputs": [
    {
     "data": {
      "text/html": [
       "<div>\n",
       "<style scoped>\n",
       "    .dataframe tbody tr th:only-of-type {\n",
       "        vertical-align: middle;\n",
       "    }\n",
       "\n",
       "    .dataframe tbody tr th {\n",
       "        vertical-align: top;\n",
       "    }\n",
       "\n",
       "    .dataframe thead th {\n",
       "        text-align: right;\n",
       "    }\n",
       "</style>\n",
       "<table border=\"1\" class=\"dataframe\">\n",
       "  <thead>\n",
       "    <tr style=\"text-align: right;\">\n",
       "      <th></th>\n",
       "      <th>Country Name</th>\n",
       "      <th>Adolescent fertility rate (births per 1,000 women ages 15-19)</th>\n",
       "    </tr>\n",
       "  </thead>\n",
       "  <tbody>\n",
       "    <tr>\n",
       "      <th>143</th>\n",
       "      <td>Niger</td>\n",
       "      <td>196.0340</td>\n",
       "    </tr>\n",
       "    <tr>\n",
       "      <th>122</th>\n",
       "      <td>Mali</td>\n",
       "      <td>173.0382</td>\n",
       "    </tr>\n",
       "    <tr>\n",
       "      <th>38</th>\n",
       "      <td>Chad</td>\n",
       "      <td>167.9420</td>\n",
       "    </tr>\n",
       "    <tr>\n",
       "      <th>60</th>\n",
       "      <td>Equatorial Guinea</td>\n",
       "      <td>160.0836</td>\n",
       "    </tr>\n",
       "    <tr>\n",
       "      <th>5</th>\n",
       "      <td>Angola</td>\n",
       "      <td>157.3554</td>\n",
       "    </tr>\n",
       "  </tbody>\n",
       "</table>\n",
       "</div>"
      ],
      "text/plain": [
       "          Country Name  \\\n",
       "143              Niger   \n",
       "122               Mali   \n",
       "38                Chad   \n",
       "60   Equatorial Guinea   \n",
       "5               Angola   \n",
       "\n",
       "     Adolescent fertility rate (births per 1,000 women ages 15-19)  \n",
       "143                                           196.0340              \n",
       "122                                           173.0382              \n",
       "38                                            167.9420              \n",
       "60                                            160.0836              \n",
       "5                                             157.3554              "
      ]
     },
     "execution_count": 3,
     "metadata": {},
     "output_type": "execute_result"
    }
   ],
   "source": [
    "top_adolescent_fertility = wdi[['Country Name', 'Adolescent fertility rate (births per 1,000 women ages 15-19)']].sort_values(by='Adolescent fertility rate (births per 1,000 women ages 15-19)', ascending=False).head(5)\n",
    "\n",
    "top_adolescent_fertility"
   ]
  },
  {
   "cell_type": "markdown",
   "metadata": {},
   "source": [
    "#### Question 2: Generate a bar chart to visualize the \"Battle-related deaths (number of people)\" for the top 5 countries."
   ]
  },
  {
   "cell_type": "code",
   "execution_count": 3,
   "metadata": {},
   "outputs": [
    {
     "data": {
      "image/png": "[encoded data removed]",
      "text/plain": [
       "<Figure size 360x360 with 1 Axes>"
      ]
     },
     "metadata": {
      "needs_background": "light"
     },
     "output_type": "display_data"
    }
   ],
   "source": [
    "top_battle_deaths = wdi[['Country Name', 'Battle-related deaths (number of people)']].sort_values(by='Battle-related deaths (number of people)', ascending=False).head(5)\n",
    "plt.figure(figsize=(5,5))\n",
    "plt.bar(top_battle_deaths['Country Name'], top_battle_deaths['Battle-related deaths (number of people)'], color='skyblue')\n",
    "plt.xlabel('Country Nam–e')\n",
    "plt.ylabel('Battle-related deaths')\n",
    "plt.title('Top 5 countries by Battle-related deaths')\n",
    "plt.xticks(rotation=45)\n",
    "plt.show()\n",
    "\n",
    "# what if the xlabel is not clearly shown?"
   ]
  },
  {
   "cell_type": "markdown",
   "metadata": {},
   "source": [
    "#### Question 3: What is the average \"CPIA building human resources rating (1=low to 6=high)\" across all countries in the dataset?"
   ]
  },
  {
   "cell_type": "code",
   "execution_count": 5,
   "metadata": {},
   "outputs": [
    {
     "name": "stdout",
     "output_type": "stream",
     "text": [
      "the average is 3.60\n"
     ]
    }
   ],
   "source": [
    "avg_cpi_building_human_resources = wdi['CPIA building human resources rating (1=low to 6=high)'].mean()\n",
    "\n",
    "avg_cpi_building_human_resources\n",
    "\n",
    "print(f\"the average is {avg_cpi_building_human_resources:.2f}\")\n",
    "\n",
    "# Formatting numbers with text -> \n"
   ]
  },
  {
   "cell_type": "code",
   "execution_count": 12,
   "metadata": {},
   "outputs": [
    {
     "name": "stdout",
     "output_type": "stream",
     "text": [
      "my age is 25 years old\n",
      "my age is 25 years old\n",
      "my age is 25 years old\n",
      "my height is 179.35 cm\n",
      "the average is 179.35\n"
     ]
    }
   ],
   "source": [
    "age = 25\n",
    "\n",
    "print('my age is', age, 'years old')\n",
    "\n",
    "#f-strings\n",
    "\n",
    "print('my age is {} years old'.format(age))\n",
    "print(f'my age is {age} years old')\n",
    "\n",
    "height = 179.35267422334\n",
    "print(\"my height is {:.2f} cm\".format(height))\n",
    "print(f\"the average is {height:.2f}\")\n"
   ]
  },
  {
   "cell_type": "markdown",
   "metadata": {},
   "source": [
    "#### Question 4: Generate a histogram to visualize the distribution of \"Women who were first married by age 18 (% of women ages 20-24)\" across all countries."
   ]
  },
  {
   "cell_type": "code",
   "execution_count": 13,
   "metadata": {},
   "outputs": [
    {
     "data": {
      "text/plain": [
       "217"
      ]
     },
     "execution_count": 13,
     "metadata": {},
     "output_type": "execute_result"
    }
   ],
   "source": [
    "len(wdi)"
   ]
  },
  {
   "cell_type": "code",
   "execution_count": 29,
   "metadata": {},
   "outputs": [
    {
     "data": {
      "image/png": "[encoded data removed]",
      "text/plain": [
       "<Figure size 720x432 with 1 Axes>"
      ]
     },
     "metadata": {
      "needs_background": "light"
     },
     "output_type": "display_data"
    }
   ],
   "source": [
    "plt.figure(figsize=(10,6))\n",
    "plt.hist(wdi['Women who were first married by age 18 (% of women ages 20-24)'], bins=15, color='salmon')\n",
    "plt.xlabel('Women who were first married by age 18 (% of women ages 20-24)')\n",
    "plt.ylabel('Frequency')\n",
    "plt.title('Distribution of Women who were first married by age 18 across all countries')\n",
    "plt.show()\n",
    "\n",
    "# what percentage of countires that has the data for Women who were first married by age 18 (% of women ages 20-24)? (use: len, dropna)"
   ]
  },
  {
   "cell_type": "code",
   "execution_count": 21,
   "metadata": {},
   "outputs": [
    {
     "data": {
      "text/plain": [
       "0      34.8\n",
       "23     19.4\n",
       "38     66.9\n",
       "42     23.4\n",
       "45     27.3\n",
       "80     29.5\n",
       "100     7.0\n",
       "119    42.1\n",
       "122    51.5\n",
       "125    37.0\n",
       "127    26.1\n",
       "134    52.9\n",
       "135    16.0\n",
       "154    21.5\n",
       "162     6.8\n",
       "167    31.0\n",
       "175    21.3\n",
       "192    22.5\n",
       "216    32.4\n",
       "Name: Women who were first married by age 18 (% of women ages 20-24), dtype: float64"
      ]
     },
     "execution_count": 21,
     "metadata": {},
     "output_type": "execute_result"
    }
   ],
   "source": [
    "wdi['Women who were first married by age 18 (% of women ages 20-24)'].dropna()\n",
    "\n",
    "# label for "
   ]
  },
  {
   "cell_type": "code",
   "execution_count": 19,
   "metadata": {},
   "outputs": [
    {
     "name": "stdout",
     "output_type": "stream",
     "text": [
      "Rate: 8.76%\n"
     ]
    }
   ],
   "source": [
    "percent = len(wdi['Women who were first married by age 18 (% of women ages 20-24)'].dropna())/len(wdi)\n",
    "print(f\"Rate: {percent:.2%}\")"
   ]
  },
  {
   "cell_type": "code",
   "execution_count": 18,
   "metadata": {},
   "outputs": [
    {
     "data": {
      "text/plain": [
       "19"
      ]
     },
     "execution_count": 18,
     "metadata": {},
     "output_type": "execute_result"
    }
   ],
   "source": [
    "len(wdi['Women who were first married by age 18 (% of women ages 20-24)'].dropna())"
   ]
  },
  {
   "cell_type": "markdown",
   "metadata": {},
   "source": [
    "#### Question 5: How many countries have data regarding \"Antiretroviral therapy coverage for PMTCT (% of pregnant women living with HIV)\"?"
   ]
  },
  {
   "cell_type": "code",
   "execution_count": 36,
   "metadata": {},
   "outputs": [
    {
     "data": {
      "text/plain": [
       "96"
      ]
     },
     "execution_count": 36,
     "metadata": {},
     "output_type": "execute_result"
    }
   ],
   "source": [
    "count_antiretroviral_therapy_coverage = wdi['Antiretroviral therapy coverage for PMTCT (% of pregnant women living with HIV)'].count()\n",
    "count_antiretroviral_therapy_coverage"
   ]
  },
  {
   "cell_type": "code",
   "execution_count": 8,
   "metadata": {},
   "outputs": [
    {
     "name": "stdout",
     "output_type": "stream",
     "text": [
      "There are 96 countries with count_antiretroviral_therapy_coverage\n"
     ]
    }
   ],
   "source": [
    "# print (count_antiretroviral_therapy_coverage) with comments\n",
    "print(f'There are {count_antiretroviral_therapy_coverage} countries with count_antiretroviral_therapy_coverage')"
   ]
  },
  {
   "cell_type": "markdown",
   "metadata": {},
   "source": [
    "## Export and upload Your Notebook to Moodle!\n",
    "\n",
    "When you are finished, the next step is to export this notebook. \n",
    "\n",
    "In my experience, the best way to do this is as follows: \n",
    "\n",
    "1. Along the top of your notebook, select \"Export\" (it might be in the three-dot menu at the top of the notebook in the same bar as the `+ Code` button and the `+ Markdown` button).\n",
    "2. Choose \"HTML\" and **save it next to this notebook file**. This is important because any images in the HTML have relative file paths that are set up to be in reference to the location of your notebook, so if you save it somewhere else, when you open it you may lose all your images. \n",
    "3. Open that HTML in your normal web browser (Chrome, Firefox, etc), **not** in VS Code.\n",
    "4. Print the page to PDF.\n",
    "\n",
    "Why do this instead of choosing the PDF option when exporting? If you try and export a notebook directly to PDF, VS Code will actually try and use a tool to convert it to a LaTeX document, compile that latex document, then print, and getting this setup right can be a pain, and the LaTeX conversion often causes problems. So while a little convoluted, that's my recommendation. "
   ]
  },
  {
   "cell_type": "markdown",
   "metadata": {},
   "source": []
  }
 ],
 "metadata": {
  "kernelspec": {
   "display_name": "Python 3.9.12 ('base')",
   "language": "python",
   "name": "python3"
  },
  "language_info": {
   "codemirror_mode": {
    "name": "ipython",
    "version": 3
   },
   "file_extension": ".py",
   "mimetype": "text/x-python",
   "name": "python",
   "nbconvert_exporter": "python",
   "pygments_lexer": "ipython3",
   "version": "3.9.12"
  },
  "orig_nbformat": 4,
  "vscode": {
   "interpreter": {
    "hash": "aa6f56cd74fca7c78be17230ea59c0b72339cea10f0f0a2d8946688149545e72"
   }
  }
 },
 "nbformat": 4,
 "nbformat_minor": 2
}
